{
 "cells": [
  {
   "cell_type": "code",
   "execution_count": 1,
   "metadata": {
    "collapsed": true
   },
   "outputs": [],
   "source": [
    "import numpy as np\n",
    "import pandas as pd\n",
    "\n",
    "#loading metrics packages\n",
    "from sklearn import metrics\n",
    "from sklearn.metrics import roc_curve, auc, accuracy_score\n",
    "import matplotlib.pyplot as plt\n",
    "%matplotlib inline\n",
    "\n",
    "#loading feature selection packages\n",
    "from sklearn.feature_selection import RFECV\n",
    "\n",
    "#loading model parameter selection packages\n",
    "from sklearn.model_selection import validation_curve\n",
    "from sklearn.model_selection import GridSearchCV, cross_val_score, cross_val_predict\n",
    "from sklearn.model_selection import ShuffleSplit\n",
    "\n",
    "# loading algorithm packages\n",
    "from sklearn.linear_model import LogisticRegression\n",
    "from sklearn.tree import DecisionTreeClassifier\n",
    "from sklearn.linear_model import LinearRegression\n",
    "from sklearn import svm\n",
    "from sklearn.ensemble import AdaBoostClassifier\n",
    "from sklearn.ensemble import BaggingClassifier \n",
    "from sklearn.neighbors import KNeighborsClassifier\n",
    "import xgboost as xgb"
   ]
  },
  {
   "cell_type": "code",
   "execution_count": 2,
   "metadata": {
    "collapsed": true
   },
   "outputs": [],
   "source": [
    "#loading fraud under sampled  data\n",
    "fraud_u_train = pd.read_csv('under_sampling_train.csv', sep=',') \n",
    "fraud_u_test = pd.read_csv('under_sampling_test.csv', sep=',') \n",
    "\n",
    "#loading fraud random sampled data\n",
    "fraud_n_train = pd.read_csv('train3.csv', sep=',') \n",
    "fraud_n_test = pd.read_csv('test2.csv', sep=',') \n",
    "\n",
    "#deleting unwanted columns\n",
    "del fraud_u_train['Time']\n",
    "del fraud_u_test['Time']\n",
    "\n",
    "del fraud_n_train['Time']\n",
    "del fraud_n_test['Time']\n",
    "\n",
    "# drop rows with NA\n",
    "fraud_u_train.dropna(inplace = True)\n",
    "fraud_u_test.dropna(inplace = True)\n",
    "\n",
    "fraud_n_train.dropna(inplace = True)\n",
    "fraud_n_test.dropna(inplace = True)\n",
    "\n",
    "#splitting featurs and class\n",
    "columns = fraud_u_train.columns.tolist()\n",
    "columns = [c for c in columns if c not in [\"Class\"]]\n",
    "fraud_u_train_X=fraud_u_train[columns]\n",
    "fraud_u_train_Y=fraud_u_train[\"Class\"]\n",
    "fraud_u_test_X=fraud_u_test[columns]\n",
    "fraud_u_test_Y=fraud_u_test[\"Class\"]\n",
    "\n",
    "columns = fraud_u_train.columns.tolist()\n",
    "columns = [c for c in columns if c not in [\"Class\"]]\n",
    "fraud_n_train_X=fraud_n_train[columns]\n",
    "fraud_n_train_Y=fraud_n_train[\"Class\"]\n",
    "fraud_n_test_X=fraud_n_test[columns]\n",
    "fraud_n_test_Y=fraud_n_test[\"Class\"]\n",
    "\n",
    "fraud_u_train_X = pd.get_dummies(fraud_u_train_X)\n",
    "fraud_u_test_X= pd.get_dummies(fraud_u_test_X)\n",
    "\n",
    "fraud_n_train_X = pd.get_dummies(fraud_n_train_X)\n",
    "fraud_n_test_X= pd.get_dummies(fraud_n_test_X)"
   ]
  },
  {
   "cell_type": "code",
   "execution_count": 3,
   "metadata": {
    "collapsed": true
   },
   "outputs": [],
   "source": [
    "#Building parameter dictionaries\n",
    "ID3_params={'max_depth':[i for i in range(1,15)], 'criterion':['gini', 'entropy']}\n",
    "SVM_params = {'loss':['squared_hinge'],'penalty':['l2', 'l1'], 'dual':[False]}\n",
    "SVM_2_params = {'class_weight':['balanced','auto'],'C':[0.25,0.5,0.75,1.0], 'max_iter':[10,15,-1],'cache_size':[500.0]}\n",
    "SVM_3_params = {'class_weight':['balanced','auto'],'C':[0.25,0.5,0.75,1.0], 'max_iter':[10,15,-1],'cache_size':[500.0]}\n",
    "ada_params= {'n_estimators':[20, 40, 50], 'learning_rate':[0.5,1.0]}\n",
    "knn_params={'n_neighbors':[5,10,15], 'weights':['uniform','distance'],'algorithm':['ball_tree', 'kd_tree', 'brute']}\n",
    "bag_params={'n_estimators':[10,15,20], 'bootstrap_features':[True,False],'max_features': [0.5,1.0],'max_samples':[1,0.5,0.75]}\n",
    "logit_params={'max_iter':[100,50,200],'C':[0.25,0.5,0.75,1.0],'solver':['newton-cg', 'lbfgs', 'liblinear', 'sag'],'warm_start':[True,False]}\n",
    "xg_params={'learning_rate':[0.01,0.1,0.3,0.5], 'n_estimators':[500,600,700,1000]}"
   ]
  },
  {
   "cell_type": "code",
   "execution_count": 17,
   "metadata": {
    "collapsed": true
   },
   "outputs": [],
   "source": [
    "#Function to calculate best set of parameters for each model \n",
    "def bestparam (model, train_X, train_Y):\n",
    "    model.fit(train_X,train_Y)\n",
    "    print\"Best paramters\", model.best_params_\n",
    "    print\"\"\n",
    "    return model.best_params_"
   ]
  },
  {
   "cell_type": "code",
   "execution_count": 34,
   "metadata": {
    "collapsed": true
   },
   "outputs": [],
   "source": [
    "#function to prin the metrics of a model\n",
    "def calcmetrics(predicted,actual,ModelName):\n",
    "    print\"****************************************** \"+ModelName+\" ****************************************\"\n",
    "    print\"Confusion Matrix\"\n",
    "    print metrics.confusion_matrix(actual, predicted)\n",
    "    print\"\"\n",
    "    print metrics.classification_report(actual, predicted)\n",
    "    print\"\"\n",
    "    print\"Accuracy = \",\"{0:.2f}\".format(round(accuracy_score(actual, predicted)*100,2))\n",
    "    print\"\"\n",
    "    false_positive_rate, true_positive_rate, thresholds = roc_curve(actual, predicted)\n",
    "    roc_auc = auc(false_positive_rate, true_positive_rate)\n",
    "    print\"AUC =\",\"{0:.2f}\".format(round(roc_auc*100,2))\n",
    "    print\"\"\n",
    "    plt.title('Receiver Operating Characteristic '+ModelName)\n",
    "    plt.plot(false_positive_rate, true_positive_rate, 'b',\n",
    "    label='AUC = %0.2f'% roc_auc)\n",
    "    plt.legend(loc='lower right')\n",
    "    plt.plot([0,1],[0,1],'r--')\n",
    "    plt.xlim([-0.1,1.2])\n",
    "    plt.ylim([-0.1,1.2])\n",
    "    plt.ylabel('True Positive Rate')\n",
    "    plt.xlabel('False Positive Rate')\n",
    "    plt.show()"
   ]
  },
  {
   "cell_type": "markdown",
   "metadata": {},
   "source": [
    "## buliding Decision tree model from undersampled data and Random sampled data"
   ]
  },
  {
   "cell_type": "code",
   "execution_count": null,
   "metadata": {
    "collapsed": true
   },
   "outputs": [],
   "source": [
    "ID3=GridSearchCV(DecisionTreeClassifier(), param_grid = ID3_params, n_jobs = -1, cv = 5)\n",
    "b_param=bestparam (ID3, fraud_u_train_X, fraud_u_train_Y)\n",
    "ID3_best=DecisionTreeClassifier(criterion = b_param['criterion'],max_depth=b_param['max_depth'])\n",
    "ID3_best.fit(fraud_u_train_X,fraud_u_train_Y)\n",
    "ID3_predicted = ID3_best.predict(fraud_u_test_X)\n",
    "calcmetrics(ID3_predicted,fraud_u_test_Y,\"Decision Tree - Under sampling\")"
   ]
  },
  {
   "cell_type": "code",
   "execution_count": null,
   "metadata": {
    "collapsed": true
   },
   "outputs": [],
   "source": [
    "ID3=GridSearchCV(DecisionTreeClassifier(), param_grid = ID3_params, n_jobs = -1, cv = 5)\n",
    "b_param=bestparam (ID3, fraud_n_train_X, fraud_n_train_Y)\n",
    "ID3_best=DecisionTreeClassifier(criterion = b_param['criterion'],max_depth=b_param['max_depth'])\n",
    "ID3_best.fit(fraud_n_train_X,fraud_n_train_Y)\n",
    "ID3_predicted = ID3_best.predict(fraud_n_test_X)\n",
    "calcmetrics(ID3_predicted,fraud_n_test_Y,\"Decision Tree - Random sampling\")"
   ]
  },
  {
   "cell_type": "markdown",
   "metadata": {},
   "source": [
    "## buliding SVM model from undersampled data and Random sampled data"
   ]
  },
  {
   "cell_type": "code",
   "execution_count": null,
   "metadata": {
    "collapsed": true
   },
   "outputs": [],
   "source": [
    "SVM=GridSearchCV(svm.LinearSVC(), param_grid = SVM_params, n_jobs = -1, cv = 5)\n",
    "b_param=bestparam (SVM, fraud_u_train_X, fraud_u_train_Y)\n",
    "SVM_best=svm.LinearSVC(penalty= b_param['penalty'], loss= b_param['loss'], dual= b_param['dual'])\n",
    "SVM_best.fit(fraud_u_train_X,fraud_u_train_Y)\n",
    "SVM_predicted = SVM_best.predict(fraud_u_test_X)\n",
    "calcmetrics(SVM_predicted,fraud_u_test_Y,\"Linear SVM - Under sampling\")"
   ]
  },
  {
   "cell_type": "code",
   "execution_count": null,
   "metadata": {
    "collapsed": true
   },
   "outputs": [],
   "source": [
    "SVM=GridSearchCV(svm.LinearSVC(), param_grid = SVM_params, n_jobs = -1, cv = 5)\n",
    "b_param=bestparam (SVM, fraud_n_train_X, fraud_n_train_Y)\n",
    "SVM_best=svm.LinearSVC(penalty= b_param['penalty'], loss= b_param['loss'], dual= b_param['dual'])\n",
    "SVM_best.fit(fraud_n_train_X,fraud_n_train_Y)\n",
    "SVM_predicted = SVM_best.predict(fraud_n_test_X)\n",
    "calcmetrics(SVM_predicted,fraud_n_test_Y,\"Linear SVM - Random sampling\")"
   ]
  },
  {
   "cell_type": "markdown",
   "metadata": {},
   "source": [
    "## buliding KNN model from undersampled data and Random sampled data"
   ]
  },
  {
   "cell_type": "code",
   "execution_count": null,
   "metadata": {
    "collapsed": true
   },
   "outputs": [],
   "source": [
    "knn=GridSearchCV(KNeighborsClassifier(), param_grid = knn_params, n_jobs = -1, cv = 5)\n",
    "b_param=bestparam (knn, fraud_u_train_X, fraud_u_train_Y)\n",
    "knn_best=KNeighborsClassifier(n_neighbors= b_param['n_neighbors'], weights=b_param['weights'], algorithm= b_param['algorithm'])\n",
    "knn_best.fit(fraud_u_train_X,fraud_u_train_Y)\n",
    "knn_predicted = knn_best.predict(fraud_u_test_X)\n",
    "calcmetrics(knn_predicted,fraud_u_test_Y,\"KNN- Under sampling\")"
   ]
  },
  {
   "cell_type": "code",
   "execution_count": null,
   "metadata": {
    "collapsed": true
   },
   "outputs": [],
   "source": [
    "knn=GridSearchCV(KNeighborsClassifier(), param_grid = knn_params, n_jobs = -1, cv = 5)\n",
    "b_param=bestparam (knn, fraud_n_train_X, fraud_n_train_Y)\n",
    "knn_best=KNeighborsClassifier(n_neighbors= b_param['n_neighbors'], weights=b_param['weights'], algorithm= b_param['algorithm'])\n",
    "knn_best.fit(fraud_n_train_X,fraud_n_train_Y)\n",
    "knn_predicted = knn_best.predict(fraud_n_test_X)\n",
    "calcmetrics(knn_predicted,fraud_n_test_Y,\"KNN- Random sampling\")"
   ]
  },
  {
   "cell_type": "markdown",
   "metadata": {},
   "source": [
    "## buliding adaboost model from undersampled data and Random sampled data"
   ]
  },
  {
   "cell_type": "code",
   "execution_count": null,
   "metadata": {
    "collapsed": true
   },
   "outputs": [],
   "source": [
    "ada=GridSearchCV(AdaBoostClassifier(ID3_best), param_grid = ada_params, n_jobs = -1, cv = 5)\n",
    "b_param=bestparam (ada, fraud_u_train_X, fraud_u_train_Y)\n",
    "ada_best=AdaBoostClassifier(ID3_best, n_estimators= b_param['n_estimators'], learning_rate=b_param['learning_rate'])\n",
    "ada_best.fit(fraud_u_train_X,fraud_u_train_Y)\n",
    "ada_predicted = ada_best.predict(fraud_u_test_X)\n",
    "calcmetrics(ada_predicted,fraud_u_test_Y,\"Adaboost- Under sampling\")"
   ]
  },
  {
   "cell_type": "code",
   "execution_count": null,
   "metadata": {
    "collapsed": true
   },
   "outputs": [],
   "source": [
    "ada=GridSearchCV(AdaBoostClassifier(ID3_best), param_grid = ada_params, n_jobs = -1, cv = 5)\n",
    "b_param=bestparam (ada, fraud_n_train_X, fraud_n_train_Y)\n",
    "ada_best=AdaBoostClassifier(ID3_best, n_estimators= b_param['n_estimators'], learning_rate=b_param['learning_rate'])\n",
    "ada_best.fit(fraud_n_train_X,fraud_n_train_Y)\n",
    "ada_predicted = ada_best.predict(fraud_n_test_X)\n",
    "calcmetrics(ada_predicted,fraud_n_test_Y,\"Adaboost- Random sampling\")"
   ]
  },
  {
   "cell_type": "markdown",
   "metadata": {},
   "source": [
    "## buliding bagging model from undersampled data and Random sampled data"
   ]
  },
  {
   "cell_type": "code",
   "execution_count": null,
   "metadata": {
    "collapsed": true
   },
   "outputs": [],
   "source": [
    "bag=GridSearchCV(BaggingClassifier(ID3_best), param_grid = bag_params, n_jobs = -1, cv = 5)\n",
    "b_param=bestparam (bag, fraud_u_train_X, fraud_u_train_Y)\n",
    "bag_best=BaggingClassifier(ID3_best,max_features= b_param['max_features'], max_samples= b_param['max_samples'], n_estimators= b_param['n_estimators'], bootstrap_features= b_param['bootstrap_features'])\n",
    "bag_best.fit(fraud_u_train_X,fraud_u_train_Y)\n",
    "bag_predicted = bag_best.predict(fraud_u_test_X)\n",
    "calcmetrics(bag_predicted,fraud_u_test_Y,\"Bagging- Under sampling\")"
   ]
  },
  {
   "cell_type": "code",
   "execution_count": null,
   "metadata": {
    "collapsed": true
   },
   "outputs": [],
   "source": [
    "bag=GridSearchCV(BaggingClassifier(ID3_best), param_grid = bag_params, n_jobs = -1, cv = 5)\n",
    "b_param=bestparam (bag, fraud_n_train_X, fraud_n_train_Y)\n",
    "bag_best=BaggingClassifier(ID3_best,max_features= b_param['max_features'], max_samples= b_param['max_samples'], n_estimators= b_param['n_estimators'], bootstrap_features= b_param['bootstrap_features'])\n",
    "bag_best.fit(fraud_n_train_X,fraud_n_train_Y)\n",
    "bag_predicted = bag_best.predict(fraud_n_test_X)\n",
    "calcmetrics(bag_predicted,fraud_n_test_Y,\"Bagging- Random sampling\")"
   ]
  },
  {
   "cell_type": "markdown",
   "metadata": {},
   "source": [
    "## buliding Logistic regression model from undersampled data and Random sampled data"
   ]
  },
  {
   "cell_type": "code",
   "execution_count": null,
   "metadata": {
    "collapsed": true
   },
   "outputs": [],
   "source": [
    "logit=GridSearchCV(LogisticRegression(), param_grid = logit_params, n_jobs = -1, cv = 5)\n",
    "b_param=bestparam (logit, fraud_u_train_X, fraud_u_train_Y)\n",
    "logit_best=LogisticRegression(warm_start=b_param['warm_start'], C= b_param['C'], max_iter= b_param['max_iter'], solver= b_param['solver'])\n",
    "logit_best.fit(fraud_u_train_X,fraud_u_train_Y)\n",
    "logit_predicted = logit_best.predict(fraud_u_test_X)\n",
    "calcmetrics(logit_predicted,fraud_u_test_Y,\"logistic Regression- Under sampling\")"
   ]
  },
  {
   "cell_type": "code",
   "execution_count": null,
   "metadata": {
    "collapsed": true
   },
   "outputs": [],
   "source": [
    "logit=GridSearchCV(LogisticRegression(), param_grid = logit_params, n_jobs = -1, cv = 5)\n",
    "b_param=bestparam (logit, fraud_n_train_X, fraud_n_train_Y)\n",
    "logit_best=LogisticRegression(warm_start=b_param['warm_start'], C= b_param['C'], max_iter= b_param['max_iter'], solver= b_param['solver'])\n",
    "logit_best.fit(fraud_n_train_X,fraud_n_train_Y)\n",
    "logit_predicted = logit_best.predict(fraud_n_test_X)\n",
    "calcmetrics(logit_predicted,fraud_n_test_Y,\"logistic Regression- Random sampling\")"
   ]
  },
  {
   "cell_type": "markdown",
   "metadata": {},
   "source": [
    "## buliding XGBOOST model from undersampled data and Random sampled data"
   ]
  },
  {
   "cell_type": "code",
   "execution_count": null,
   "metadata": {
    "collapsed": true
   },
   "outputs": [],
   "source": [
    "Xgboost = xgb.XGBClassifier(max_depth=4, n_estimators=600, learning_rate=0.03).fit(fraud_u_train_X, fraud_u_train_Y) \n",
    "xgb_predicted = Xgboost.predict(fraud_u_test_X)\n",
    "calcmetrics(xgb_predicted,fraud_u_test_Y,\"XGBoost - Under sampling\")"
   ]
  },
  {
   "cell_type": "code",
   "execution_count": null,
   "metadata": {
    "collapsed": true
   },
   "outputs": [],
   "source": [
    "Xgboost = xgb.XGBClassifier(max_depth=4, n_estimators=600, learning_rate=0.03).fit(fraud_n_train_X, fraud_n_train_Y) \n",
    "xgb_predicted = Xgboost.predict(fraud_n_test_X)\n",
    "calcmetrics(xgb_predicted,fraud_n_test_Y,\"XGBoost - Random sampling\")"
   ]
  },
  {
   "cell_type": "code",
   "execution_count": null,
   "metadata": {
    "collapsed": true
   },
   "outputs": [],
   "source": []
  }
 ],
 "metadata": {
  "kernelspec": {
   "display_name": "Python [Root]",
   "language": "python",
   "name": "Python [Root]"
  },
  "language_info": {
   "codemirror_mode": {
    "name": "ipython",
    "version": 2
   },
   "file_extension": ".py",
   "mimetype": "text/x-python",
   "name": "python",
   "nbconvert_exporter": "python",
   "pygments_lexer": "ipython2",
   "version": "2.7.12"
  }
 },
 "nbformat": 4,
 "nbformat_minor": 0
}
